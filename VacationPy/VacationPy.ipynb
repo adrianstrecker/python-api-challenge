{
 "cells": [
  {
   "cell_type": "markdown",
   "metadata": {},
   "source": [
    "# VacationPy\n",
    "----\n",
    "\n",
    "#### Note\n",
    "* Keep an eye on your API usage. Use https://developers.google.com/maps/reporting/gmp-reporting as reference for how to monitor your usage and billing.\n",
    "\n",
    "* Instructions have been included for each segment. You do not have to follow them exactly, but they are included to help you think through the steps."
   ]
  },
  {
   "cell_type": "code",
   "execution_count": 1,
   "metadata": {},
   "outputs": [],
   "source": [
    "# Dependencies and Setup\n",
    "import matplotlib.pyplot as plt\n",
    "import pandas as pd\n",
    "import numpy as np\n",
    "import requests\n",
    "import gmaps\n",
    "import os\n",
    "\n",
    "# Import API key\n",
    "from api_keys import g_key"
   ]
  },
  {
   "cell_type": "markdown",
   "metadata": {},
   "source": [
    "### Store Part I results into DataFrame\n",
    "* Load the csv exported in Part I to a DataFrame"
   ]
  },
  {
   "cell_type": "code",
   "execution_count": 2,
   "metadata": {},
   "outputs": [
    {
     "data": {
      "text/html": [
       "<div>\n",
       "<style scoped>\n",
       "    .dataframe tbody tr th:only-of-type {\n",
       "        vertical-align: middle;\n",
       "    }\n",
       "\n",
       "    .dataframe tbody tr th {\n",
       "        vertical-align: top;\n",
       "    }\n",
       "\n",
       "    .dataframe thead th {\n",
       "        text-align: right;\n",
       "    }\n",
       "</style>\n",
       "<table border=\"1\" class=\"dataframe\">\n",
       "  <thead>\n",
       "    <tr style=\"text-align: right;\">\n",
       "      <th></th>\n",
       "      <th>City</th>\n",
       "      <th>Coordinates</th>\n",
       "      <th>Latitude</th>\n",
       "      <th>Longitude</th>\n",
       "      <th>Temperature</th>\n",
       "      <th>Humidity</th>\n",
       "      <th>Cloudiness</th>\n",
       "      <th>Wind Speed</th>\n",
       "      <th>Country</th>\n",
       "      <th>Date</th>\n",
       "    </tr>\n",
       "  </thead>\n",
       "  <tbody>\n",
       "    <tr>\n",
       "      <th>0</th>\n",
       "      <td>tuktoyaktuk</td>\n",
       "      <td>-133.04,   69.45</td>\n",
       "      <td>69.45</td>\n",
       "      <td>-133.04</td>\n",
       "      <td>60.80</td>\n",
       "      <td>82</td>\n",
       "      <td>20</td>\n",
       "      <td>11.41</td>\n",
       "      <td>CA</td>\n",
       "      <td>1598294818</td>\n",
       "    </tr>\n",
       "    <tr>\n",
       "      <th>1</th>\n",
       "      <td>port moresby</td>\n",
       "      <td>147.18,   -9.44</td>\n",
       "      <td>-9.44</td>\n",
       "      <td>147.18</td>\n",
       "      <td>71.60</td>\n",
       "      <td>100</td>\n",
       "      <td>40</td>\n",
       "      <td>9.17</td>\n",
       "      <td>PG</td>\n",
       "      <td>1598294819</td>\n",
       "    </tr>\n",
       "    <tr>\n",
       "      <th>2</th>\n",
       "      <td>castro</td>\n",
       "      <td>-50.01,   -24.79</td>\n",
       "      <td>-24.79</td>\n",
       "      <td>-50.01</td>\n",
       "      <td>62.40</td>\n",
       "      <td>67</td>\n",
       "      <td>0</td>\n",
       "      <td>7.78</td>\n",
       "      <td>BR</td>\n",
       "      <td>1598294769</td>\n",
       "    </tr>\n",
       "    <tr>\n",
       "      <th>3</th>\n",
       "      <td>bodden town</td>\n",
       "      <td>-81.25,   19.28</td>\n",
       "      <td>19.28</td>\n",
       "      <td>-81.25</td>\n",
       "      <td>79.63</td>\n",
       "      <td>94</td>\n",
       "      <td>90</td>\n",
       "      <td>9.17</td>\n",
       "      <td>KY</td>\n",
       "      <td>1598294819</td>\n",
       "    </tr>\n",
       "    <tr>\n",
       "      <th>4</th>\n",
       "      <td>marolambo</td>\n",
       "      <td>48.12,   -20.05</td>\n",
       "      <td>-20.05</td>\n",
       "      <td>48.12</td>\n",
       "      <td>62.02</td>\n",
       "      <td>92</td>\n",
       "      <td>63</td>\n",
       "      <td>1.12</td>\n",
       "      <td>MG</td>\n",
       "      <td>1598294819</td>\n",
       "    </tr>\n",
       "  </tbody>\n",
       "</table>\n",
       "</div>"
      ],
      "text/plain": [
       "           City       Coordinates  Latitude  Longitude  Temperature  Humidity  \\\n",
       "0   tuktoyaktuk  -133.04,   69.45     69.45    -133.04        60.80        82   \n",
       "1  port moresby   147.18,   -9.44     -9.44     147.18        71.60       100   \n",
       "2        castro  -50.01,   -24.79    -24.79     -50.01        62.40        67   \n",
       "3   bodden town   -81.25,   19.28     19.28     -81.25        79.63        94   \n",
       "4     marolambo   48.12,   -20.05    -20.05      48.12        62.02        92   \n",
       "\n",
       "   Cloudiness  Wind Speed Country        Date  \n",
       "0          20       11.41      CA  1598294818  \n",
       "1          40        9.17      PG  1598294819  \n",
       "2           0        7.78      BR  1598294769  \n",
       "3          90        9.17      KY  1598294819  \n",
       "4          63        1.12      MG  1598294819  "
      ]
     },
     "execution_count": 2,
     "metadata": {},
     "output_type": "execute_result"
    }
   ],
   "source": [
    "city_weather = pd.read_csv(\"../WeatherPy/city_weather.csv\")\n",
    "city_weather = city_weather[['City', 'Coordinates', 'Latitude', 'Longitude',\n",
    "       'Temperature', 'Humidity', 'Cloudiness', 'Wind Speed', 'Country',\n",
    "       'Date']]\n",
    "city_weather.head(5)"
   ]
  },
  {
   "cell_type": "markdown",
   "metadata": {},
   "source": [
    "### Humidity Heatmap\n",
    "* Configure gmaps.\n",
    "* Use the Lat and Lng as locations and Humidity as the weight.\n",
    "* Add Heatmap layer to map."
   ]
  },
  {
   "cell_type": "code",
   "execution_count": 13,
   "metadata": {},
   "outputs": [
    {
     "data": {
      "application/vnd.jupyter.widget-view+json": {
       "model_id": "2de37329f58c4dadbfb0ca6fe87cc11e",
       "version_major": 2,
       "version_minor": 0
      },
      "text/plain": [
       "Figure(layout=FigureLayout(border='1px solid black', height='650px', margin='0 auto 0 auto', padding='1px', wi…"
      ]
     },
     "metadata": {},
     "output_type": "display_data"
    }
   ],
   "source": [
    "# Access maps with unique API key\n",
    "gmaps.configure(api_key=g_key)\n",
    "# Create a list containing coordinates\n",
    "lat = city_weather[\"Latitude\"]\n",
    "lon = city_weather[\"Longitude\"]\n",
    "\n",
    "coordinates = city_weather[[\"Latitude\", \"Longitude\"]]\n",
    "\n",
    "#Customize the size of the figure\n",
    "\n",
    "figure_layout = {\n",
    "    'width': '750px',\n",
    "    'height': '650px',\n",
    "    'border': '1px solid black',\n",
    "    'padding': '1px',\n",
    "    'margin': '0 auto 0 auto'\n",
    "}\n",
    "fig = gmaps.figure(layout=figure_layout)\n",
    "# Assign the marker layer to a variable\n",
    "#markers = gmaps.marker_layer(coordinates)  #, fill_color = \"red\", stroke_color = \"red\", scale = 2)\n",
    "\n",
    "#Add heatmap layer\n",
    "locations = city_weather[[\"Latitude\", \"Longitude\"]].astype(float)\n",
    "humidity = city_weather[\"Humidity\"].astype(float)\n",
    "\n",
    "heat_layer = gmaps.heatmap_layer(locations, weights = humidity, \n",
    "                                 dissipating = False, max_intensity = 100,\n",
    "                                 point_radius = 3)\n",
    "\n",
    "fig.add_layer(heat_layer)\n",
    "\n",
    "# Add the layer to the map\n",
    "#fig.add_layer(markers)\n",
    "fig\n",
    "\n",
    "#coordinates.head(5)"
   ]
  },
  {
   "cell_type": "code",
   "execution_count": null,
   "metadata": {},
   "outputs": [],
   "source": []
  },
  {
   "cell_type": "code",
   "execution_count": null,
   "metadata": {},
   "outputs": [],
   "source": []
  },
  {
   "cell_type": "code",
   "execution_count": null,
   "metadata": {},
   "outputs": [],
   "source": []
  },
  {
   "cell_type": "markdown",
   "metadata": {},
   "source": [
    "### Create new DataFrame fitting weather criteria\n",
    "* Narrow down the cities to fit weather conditions.\n",
    "* Drop any rows will null values."
   ]
  },
  {
   "cell_type": "code",
   "execution_count": null,
   "metadata": {},
   "outputs": [],
   "source": []
  },
  {
   "cell_type": "markdown",
   "metadata": {},
   "source": [
    "### Hotel Map\n",
    "* Store into variable named `hotel_df`.\n",
    "* Add a \"Hotel Name\" column to the DataFrame.\n",
    "* Set parameters to search for hotels with 5000 meters.\n",
    "* Hit the Google Places API for each city's coordinates.\n",
    "* Store the first Hotel result into the DataFrame.\n",
    "* Plot markers on top of the heatmap."
   ]
  },
  {
   "cell_type": "code",
   "execution_count": null,
   "metadata": {},
   "outputs": [],
   "source": []
  },
  {
   "cell_type": "code",
   "execution_count": null,
   "metadata": {},
   "outputs": [],
   "source": []
  },
  {
   "cell_type": "code",
   "execution_count": null,
   "metadata": {},
   "outputs": [],
   "source": [
    "# NOTE: Do not change any of the code in this cell\n",
    "\n",
    "# Using the template add the hotel marks to the heatmap\n",
    "info_box_template = \"\"\"\n",
    "<dl>\n",
    "<dt>Name</dt><dd>{Hotel Name}</dd>\n",
    "<dt>City</dt><dd>{City}</dd>\n",
    "<dt>Country</dt><dd>{Country}</dd>\n",
    "</dl>\n",
    "\"\"\"\n",
    "# Store the DataFrame Row\n",
    "# NOTE: be sure to update with your DataFrame name\n",
    "hotel_info = [info_box_template.format(**row) for index, row in hotel_df.iterrows()]\n",
    "locations = hotel_df[[\"Lat\", \"Lng\"]]"
   ]
  },
  {
   "cell_type": "code",
   "execution_count": null,
   "metadata": {},
   "outputs": [],
   "source": [
    "# Add marker layer ontop of heat map\n",
    "\n",
    "\n",
    "# Display figure\n"
   ]
  },
  {
   "cell_type": "code",
   "execution_count": null,
   "metadata": {},
   "outputs": [],
   "source": []
  }
 ],
 "metadata": {
  "kernelspec": {
   "display_name": "Python 3",
   "language": "python",
   "name": "python3"
  },
  "language_info": {
   "codemirror_mode": {
    "name": "ipython",
    "version": 3
   },
   "file_extension": ".py",
   "mimetype": "text/x-python",
   "name": "python",
   "nbconvert_exporter": "python",
   "pygments_lexer": "ipython3",
   "version": "3.6.10"
  },
  "latex_envs": {
   "LaTeX_envs_menu_present": true,
   "autoclose": false,
   "autocomplete": true,
   "bibliofile": "biblio.bib",
   "cite_by": "apalike",
   "current_citInitial": 1,
   "eqLabelWithNumbers": true,
   "eqNumInitial": 1,
   "hotkeys": {
    "equation": "Ctrl-E",
    "itemize": "Ctrl-I"
   },
   "labels_anchors": false,
   "latex_user_defs": false,
   "report_style_numbering": false,
   "user_envs_cfg": false
  }
 },
 "nbformat": 4,
 "nbformat_minor": 4
}
