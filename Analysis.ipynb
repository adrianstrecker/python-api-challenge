{
 "cells": [
  {
   "cell_type": "markdown",
   "metadata": {},
   "source": [
    "## Part 1 Analysis"
   ]
  },
  {
   "cell_type": "markdown",
   "metadata": {},
   "source": [
    "One observable trend is the confirmation that the closer you get to the equator, the hotter it tends to get. The interesting thing is it appears the hottest temperatures are seen around the 20 degrees latitude line, this could be due to the way the earth's axis is titled. It would be interesting to see if -20 latitude showed similar trends when summertime rolls around for them. \n",
    "\n",
    "A second observation is temperatures in the southern hemisphere at this time is overall cooler than the northern hemisphere which makes sense as the northern hemisphere is experiencing summer while the southern hemisphere is experiencing winter; the differences are not as stark as they would be at the height of summer and winter due to how close fall and spring are for each hemisphere but there is still a noticable difference.\n",
    "\n",
    "A third observation is wind speed does not appear to be correlated to latitude; this is probably due to other factors affecting wind speed such as mountains, valleys, and ocean currents. Additionally, there is not a correlation between cloudiness and latitude either as their correlation values are not high enough to indicate they are correlated."
   ]
  },
  {
   "cell_type": "markdown",
   "metadata": {},
   "source": [
    "## Part 2 Analysis"
   ]
  },
  {
   "cell_type": "markdown",
   "metadata": {},
   "source": [
    "![Process Flow](https://raw.githubusercontent.com/adrianstrecker/python-api-challenge/master/VacationPy/Heatmap_with_markers.png)"
   ]
  }
 ],
 "metadata": {
  "kernelspec": {
   "display_name": "Python 3",
   "language": "python",
   "name": "python3"
  },
  "language_info": {
   "codemirror_mode": {
    "name": "ipython",
    "version": 3
   },
   "file_extension": ".py",
   "mimetype": "text/x-python",
   "name": "python",
   "nbconvert_exporter": "python",
   "pygments_lexer": "ipython3",
   "version": "3.6.10"
  }
 },
 "nbformat": 4,
 "nbformat_minor": 4
}
